{
 "cells": [
  {
   "cell_type": "code",
   "execution_count": 18,
   "metadata": {},
   "outputs": [
    {
     "name": "stdout",
     "output_type": "stream",
     "text": [
      "7481\n"
     ]
    }
   ],
   "source": [
    "import os \n",
    "import numpy as np \n",
    "\n",
    "label_path = 'D:/Data/KITTI/modified/labels/'\n",
    "label_regular_path = label_path + 'regular/'\n",
    "label_lower_path = label_path + 'lower/'\n",
    "label_upper_path = label_path + 'upper/'\n",
    "\n",
    "base_path = 'D:/Data/KITTI/modified/split/'\n",
    "files = os.listdir(label_regular_path)\n",
    "print(len(files))"
   ]
  },
  {
   "cell_type": "code",
   "execution_count": 2,
   "metadata": {},
   "outputs": [
    {
     "name": "stdout",
     "output_type": "stream",
     "text": [
      "527\n"
     ]
    }
   ],
   "source": [
    "only_pedestrians = [] \n",
    "total_count = len(files) \n",
    "ctr = 0 \n",
    "\n",
    "for fp in files: \n",
    "    ctr += 1 \n",
    "    classes = []\n",
    "    with open(label_regular_path + fp) as f: \n",
    "        contents = f.read().splitlines()\n",
    "        for line in contents: \n",
    "            classes.append(int(line[0])) \n",
    "    uniques = np.unique(classes)\n",
    "    if 3 in uniques and len(uniques) == 1: \n",
    "        only_pedestrians.append(fp)\n",
    "\n",
    "\n",
    "# print(only_pedestrians) \n",
    "print(len(only_pedestrians))"
   ]
  },
  {
   "cell_type": "code",
   "execution_count": 3,
   "metadata": {},
   "outputs": [
    {
     "name": "stdout",
     "output_type": "stream",
     "text": [
      "Total:  7481\n",
      "Only pedestrians:  527\n",
      "Only pedestri (%):  7.04\n",
      "10% would be:  5237\n"
     ]
    }
   ],
   "source": [
    "print(\"Total: \", len(files))\n",
    "print(\"Only pedestrians: \", len(only_pedestrians))\n",
    "print(\"Only pedestri (%): \", round(len(only_pedestrians)/len(files)*100,2))\n",
    "print(\"10% would be: \", round(len(files)*0.7))"
   ]
  },
  {
   "cell_type": "code",
   "execution_count": 4,
   "metadata": {},
   "outputs": [
    {
     "name": "stdout",
     "output_type": "stream",
     "text": [
      "Exclusions in main:  6954\n"
     ]
    }
   ],
   "source": [
    "# Extract samples that do not have pedestrians \n",
    "from collections import Counter\n",
    "ca = Counter(files)\n",
    "cb = Counter(only_pedestrians)\n",
    "\n",
    "result_a = sorted((ca - cb).elements())  # Contains list of images without pedestrians. \n",
    "result_b = sorted((cb - ca).elements())  # Contains list of images with peds. \n",
    "files_excl = result_a\n",
    "print(\"Exclusions in main: \", len(result_a))"
   ]
  },
  {
   "cell_type": "code",
   "execution_count": 5,
   "metadata": {},
   "outputs": [],
   "source": [
    "## split ratios: \n",
    "main_train = 0.7\n",
    "main_val = 0.2\n",
    "main_test = 0.1\n",
    "\n",
    "ped_train = 0.4\n",
    "ped_val = 0.2\n",
    "ped_test = 0.4 "
   ]
  },
  {
   "cell_type": "code",
   "execution_count": 6,
   "metadata": {},
   "outputs": [
    {
     "name": "stdout",
     "output_type": "stream",
     "text": [
      "Test would be (peds, mains, %):  211 537 0.09998663280310119\n",
      "Validation would be (peds, mains, %):  105 1391 0.19997326560620238\n",
      "Training would be (peds, mains, %):  211 5026 0.7000401015906964\n"
     ]
    }
   ],
   "source": [
    "lo = len(only_pedestrians)\n",
    "le = len(result_a)\n",
    "lt = lo + le \n",
    "\n",
    "test_p, test_m =  round(lo*ped_test), round(main_test*lt - lo*ped_test)\n",
    "print(\"Test would be (peds, mains, %): \",test_p, test_m, (test_p + test_m) / lt)\n",
    "\n",
    "val_p, val_m =  round(lo*ped_val), round(main_val*lt - lo*ped_val)\n",
    "print(\"Validation would be (peds, mains, %): \",val_p, val_m, (val_p + val_m) / lt)\n",
    "\n",
    "train_p, train_m =  round(lo*ped_train), round(main_train*lt - lo*ped_train)\n",
    "print(\"Training would be (peds, mains, %): \",train_p, train_m, (train_p + train_m) / lt)\n"
   ]
  },
  {
   "cell_type": "code",
   "execution_count": 7,
   "metadata": {},
   "outputs": [
    {
     "name": "stdout",
     "output_type": "stream",
     "text": [
      "Test set: 748 Validation set: 1496 Train set: 5237\n"
     ]
    }
   ],
   "source": [
    "# Create the subsets \n",
    "test = files_excl[0:test_m] + only_pedestrians[0:test_p]\n",
    "val = files_excl[test_m:test_m+val_m] + only_pedestrians[test_p:test_p+val_p]\n",
    "train = files_excl[test_m+val_m:] + only_pedestrians[test_p+val_p:] \n",
    "print(\"Test set:\", len(test),  \"Validation set:\",len(val), \"Train set:\",len(train))"
   ]
  },
  {
   "cell_type": "code",
   "execution_count": 8,
   "metadata": {},
   "outputs": [],
   "source": [
    "# Create folders for train-test-split: \n",
    "if not os.path.isdir(base_path):\n",
    "    os.mkdir(base_path)\n",
    "    os.mkdir(base_path + 'train/')\n",
    "    os.mkdir(base_path + 'train/images/')\n",
    "    os.mkdir(base_path + 'train/labels/')\n",
    "    \n",
    "    os.mkdir(base_path + 'val/')\n",
    "    os.mkdir(base_path + 'val/images/')\n",
    "    os.mkdir(base_path + 'val/labels/')\n",
    "    \n",
    "    os.mkdir(base_path + 'test/')\n",
    "    os.mkdir(base_path + 'test/images/')\n",
    "    os.mkdir(base_path + 'test/labels/')"
   ]
  },
  {
   "cell_type": "code",
   "execution_count": 9,
   "metadata": {},
   "outputs": [],
   "source": [
    "img_path = 'D:/Data/KITTI/training/images/'\n",
    "# label_path = 'D:/Data/KITTI/training/labels/' \n",
    "from shutil import copyfile\n",
    "# copyfile(src, dst)"
   ]
  },
  {
   "cell_type": "code",
   "execution_count": 10,
   "metadata": {},
   "outputs": [],
   "source": [
    "for v in val: \n",
    "    fn = v.split('.')[0] + '.png'\n",
    "    copyfile(img_path + fn, base_path + 'val/images/' + fn)\n",
    "    copyfile(label_regular_path + v, base_path + 'val/labels/' + v)"
   ]
  },
  {
   "cell_type": "code",
   "execution_count": 34,
   "metadata": {},
   "outputs": [],
   "source": [
    "for v in test: \n",
    "    fn = v.split('.')[0] + '.png'\n",
    "    copyfile(img_path + fn, base_path + 'test/images/' + fn)\n",
    "    copyfile(label_regular_path + v, base_path + 'test/labels/' + v)"
   ]
  },
  {
   "cell_type": "code",
   "execution_count": 35,
   "metadata": {},
   "outputs": [],
   "source": [
    "for v in train: \n",
    "    fn = v.split('.')[0] + '.png'\n",
    "    copyfile(img_path + fn, base_path + 'train/images/' + fn)\n",
    "    copyfile(label_regular_path + v, base_path + 'train/labels/' + v)"
   ]
  },
  {
   "cell_type": "code",
   "execution_count": null,
   "metadata": {},
   "outputs": [],
   "source": []
  },
  {
   "cell_type": "code",
   "execution_count": 20,
   "metadata": {},
   "outputs": [],
   "source": [
    "# Split the modified labels too\n",
    "base_path = 'D:/Data/KITTI/modified/labels_split/'\n",
    "regular_target_path = base_path + 'regular/'\n",
    "upper_target_path = base_path + 'upper/'\n",
    "lower_target_path = base_path + 'lower/'\n",
    "\n",
    "\n",
    "\n",
    "if not os.path.isdir(base_path):\n",
    "    os.mkdir(base_path)\n",
    "    for f in ['regular/', 'upper/', 'lower/']: \n",
    "        os.mkdir(base_path + f)\n",
    "        os.mkdir(base_path + f + 'train/')\n",
    "        os.mkdir(base_path + f + 'train/labels/')\n",
    "\n",
    "        os.mkdir(base_path + f + 'val/')\n",
    "        os.mkdir(base_path + f + 'val/labels/')\n",
    "\n",
    "        os.mkdir(base_path + f + 'test/')\n",
    "        os.mkdir(base_path + f + 'test/labels/')\n"
   ]
  },
  {
   "cell_type": "code",
   "execution_count": 21,
   "metadata": {},
   "outputs": [],
   "source": [
    "# Regular Labels\n",
    "for v in val: \n",
    "    copyfile(label_regular_path + v, regular_target_path + 'val/labels/' + v)\n",
    "    \n",
    "for v in test: \n",
    "    copyfile(label_regular_path + v, regular_target_path + 'test/labels/' + v)\n",
    "    \n",
    "for v in train: \n",
    "    copyfile(label_regular_path + v, regular_target_path + 'train/labels/' + v)"
   ]
  },
  {
   "cell_type": "code",
   "execution_count": 22,
   "metadata": {},
   "outputs": [],
   "source": [
    "# Upper labels\n",
    "for v in val: \n",
    "    copyfile(label_upper_path + v, upper_target_path + 'val/labels/' + v)\n",
    "    \n",
    "for v in test: \n",
    "    copyfile(label_upper_path + v, upper_target_path + 'test/labels/' + v)\n",
    "    \n",
    "for v in train: \n",
    "    copyfile(label_upper_path + v, upper_target_path + 'train/labels/' + v)"
   ]
  },
  {
   "cell_type": "code",
   "execution_count": 24,
   "metadata": {},
   "outputs": [],
   "source": [
    "# Lower labels\n",
    "for v in val: \n",
    "    copyfile(label_lower_path + v, lower_target_path + 'val/labels/' + v)\n",
    "    \n",
    "for v in test: \n",
    "    copyfile(label_lower_path + v, lower_target_path + 'test/labels/' + v)\n",
    "    \n",
    "for v in train: \n",
    "    copyfile(label_lower_path + v, lower_target_path + 'train/labels/' + v)"
   ]
  },
  {
   "cell_type": "code",
   "execution_count": null,
   "metadata": {},
   "outputs": [],
   "source": []
  }
 ],
 "metadata": {
  "kernelspec": {
   "display_name": "Python 3",
   "language": "python",
   "name": "python3"
  },
  "language_info": {
   "codemirror_mode": {
    "name": "ipython",
    "version": 3
   },
   "file_extension": ".py",
   "mimetype": "text/x-python",
   "name": "python",
   "nbconvert_exporter": "python",
   "pygments_lexer": "ipython3",
   "version": "3.8.1"
  }
 },
 "nbformat": 4,
 "nbformat_minor": 4
}
