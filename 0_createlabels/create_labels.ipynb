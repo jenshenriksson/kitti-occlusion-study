{
 "cells": [
  {
   "cell_type": "code",
   "execution_count": 10,
   "metadata": {},
   "outputs": [],
   "source": [
    "import numpy as np\n",
    "import cv2\n",
    "import os\n",
    "import sys\n",
    "\n",
    "#set your data_set absolute path\n",
    "kitti_img_path ='D:/Data/KITTI/training/images/'\n",
    "kitti_label_path = 'D:/Data/KITTI/original annotations/label_2/'\n",
    "\n",
    "#transformed lables to save path\n",
    "kitti_label_tosave_path = 'D:/Data/KITTI/modified/'\n",
    "\n",
    "\n",
    "if not os.path.isdir(save_folder):\n",
    "    os.mkdir(kitti_label_tosave_path)\n",
    "    os.mkdir(kitti_label_tosave_path + 'regular')\n",
    "    os.mkdir(kitti_label_tosave_path + 'lower')\n",
    "    os.mkdir(kitti_label_tosave_path + 'upper')"
   ]
  },
  {
   "cell_type": "code",
   "execution_count": 13,
   "metadata": {},
   "outputs": [],
   "source": [
    "# Label type = regular, upper or lower \n",
    "def label_transform(label_type='regular'):     \n",
    "    index = 0\n",
    "    cvfont = cv2.FONT_HERSHEY_SIMPLEX\n",
    "\n",
    "    kitti_names_contents = classes = ['Car', 'Van', 'Truck', 'Pedestrian', 'Person_sitting', 'Cyclist', 'Tram', 'Misc']            \n",
    "    kitti_images = os.listdir(kitti_img_path)\n",
    "    kitti_labels = os.listdir(kitti_label_path)\n",
    "\n",
    "    kitti_images.sort()\n",
    "    kitti_labels.sort()\n",
    "\n",
    "    kitti_names_dic_key = []\n",
    "    for class_name in kitti_names_contents:\n",
    "        kitti_names_dic_key.append(class_name.rstrip())\n",
    "    values = range(len(kitti_names_dic_key))\n",
    "    kitti_names_num = dict(zip(kitti_names_dic_key,values))\n",
    "\n",
    "\n",
    "    #kitti数据集 相对坐标 转换为绝对坐标\n",
    "    for indexi in range(len(kitti_images)):\n",
    "\n",
    "        kitti_img_totest_path = kitti_img_path + kitti_images[indexi]\n",
    "        kitti_label_totest_path = kitti_label_path + kitti_labels[indexi]\n",
    "        #print(kitti_label_totest_path,kitti_img_totest_path)\n",
    "\n",
    "        kitti_img_totest = cv2.imread(kitti_img_totest_path)\n",
    "        #print(kitti_img_totest,type(kitti_img_totest))\n",
    "        img_height, img_width = kitti_img_totest.shape[0],kitti_img_totest.shape[1]\n",
    "\n",
    "        kitti_label_totest = open(kitti_label_totest_path,'r')\n",
    "\n",
    "        label_contents = kitti_label_totest.readlines()\n",
    "        #print(label_contents)\n",
    "        full_save_file_path = kitti_label_tosave_path + label_type + '/' + kitti_labels[indexi]\n",
    "        real_label = open(full_save_file_path,'w')\n",
    "\n",
    "        for line in label_contents:\n",
    "            data = line.split(' ')\n",
    "            x=y=w=h=0\n",
    "            if(len(data) == 15):\n",
    "                class_str = data[0]\n",
    "                if(class_str != 'DontCare'):\n",
    "                    # for kitti calls is a string\n",
    "                    # trans this to number by using kitti.names\n",
    "                    #(x,y) center (w,h) size\n",
    "                    x1 = float(data[4])\n",
    "                    y1 = float(data[5])\n",
    "                    x2 = float(data[6])\n",
    "                    y2 = float(data[7])\n",
    "\n",
    "                    intx1 = int(x1)\n",
    "                    inty1 = int(y1)\n",
    "                    intx2 = int(x2)\n",
    "                    inty2 = int(y2)\n",
    "\n",
    "                    bbox_center_x = float( (x1 + (x2 - x1) / 2.0) / img_width)\n",
    "                    bbox_center_y = float( (y1 + (y2 - y1) / 2.0) / img_height)\n",
    "                    bbox_width = float((x2 - x1) / img_width)\n",
    "                    bbox_height = float((y2 - y1) / img_height)\n",
    "\n",
    "\n",
    "                    # If its a pedestrian: Half it \n",
    "                    # print(indexi,class_str)\n",
    "                    if class_str == 'Pedestrian':\n",
    "                        if label_type == 'lower':\n",
    "                            bbox_height = bbox_height/2\n",
    "                            bbox_center_y = bbox_center_y + bbox_height/2 \n",
    "                        elif label_type == 'upper':\n",
    "                            bbox_height = bbox_height/2\n",
    "                            bbox_center_y = bbox_center_y - bbox_height/2 \n",
    "                    \n",
    "                    \n",
    "                    # cv2.putText()\n",
    "                    # 输入参数为图像、文本、位置、字体、大小、颜色数组、粗细\n",
    "                    #cv2.putText(kitti_img_totest, class_str, (intx1, inty1+3), cvfont, 2, (0,0,255), 1)\n",
    "                    # cv2.rectangle()\n",
    "                    # 输入参数分别为图像、左上角坐标、右下角坐标、颜色数组、粗细\n",
    "                    #cv2.rectangle(kitti_img_totest, (intx1,inty1), (intx2,inty2), (0,255,0), 2)\n",
    "                    line_to_write = str(kitti_names_num[class_str]) + ' ' + str(bbox_center_x)+ ' ' + str(bbox_center_y)+ ' ' + str(bbox_width)+ ' ' + str(bbox_height) +'\\n'\n",
    "                    real_label.write(line_to_write)\n",
    "                    sys.stdout.write(str(int((indexi/len(kitti_images))*100))+'% '+'*******************->' \"\\r\" )\n",
    "                    sys.stdout.flush()\n",
    "\n",
    "        #cv2.imshow(str(indexi)+' kitti_label_show',kitti_img_totest)    \n",
    "        #cv2.waitKey()\n",
    "        real_label.close()\n",
    "    print(\"Labels tranfrom finished!\")"
   ]
  },
  {
   "cell_type": "code",
   "execution_count": 14,
   "metadata": {},
   "outputs": [
    {
     "name": "stdout",
     "output_type": "stream",
     "text": [
      "Labels tranfrom finished!\n"
     ]
    }
   ],
   "source": [
    "# Transform labels to regular YOLO format \n",
    "label_transform()"
   ]
  },
  {
   "cell_type": "code",
   "execution_count": 15,
   "metadata": {},
   "outputs": [
    {
     "name": "stdout",
     "output_type": "stream",
     "text": [
      "Labels tranfrom finished!\n"
     ]
    }
   ],
   "source": [
    "# Transform labels to UPPER YOLO format \n",
    "label_transform('upper')"
   ]
  },
  {
   "cell_type": "code",
   "execution_count": null,
   "metadata": {},
   "outputs": [],
   "source": [
    "# Transform labels to LOWER YOLO format \n",
    "label_transform('upper')"
   ]
  }
 ],
 "metadata": {
  "kernelspec": {
   "display_name": "Python 3",
   "language": "python",
   "name": "python3"
  },
  "language_info": {
   "codemirror_mode": {
    "name": "ipython",
    "version": 3
   },
   "file_extension": ".py",
   "mimetype": "text/x-python",
   "name": "python",
   "nbconvert_exporter": "python",
   "pygments_lexer": "ipython3",
   "version": "3.8.1"
  }
 },
 "nbformat": 4,
 "nbformat_minor": 4
}
